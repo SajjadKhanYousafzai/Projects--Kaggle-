{
 "cells": [
  {
   "cell_type": "markdown",
   "metadata": {},
   "source": [
    "<img>\n",
    "<html>\n",
    "  <head>\n",
    "  </head>\n",
    "\n",
    "  <body>\n",
    "    <img src=\"image/123.jpg\">\n",
    "  </body>\n",
    "</html>"
   ]
  },
  {
   "cell_type": "markdown",
   "metadata": {},
   "source": [
    "# PJM Hourly Energy Consumption Data\n",
    "\n",
    "## About the Dataset  \n",
    "**PJM Interconnection LLC (PJM)** is a **regional transmission organization (RTO)** in the **United States**. It operates as part of the **Eastern Interconnection grid**, managing an **electric transmission system** serving multiple states and regions.  \n",
    "\n",
    "## Covered Regions  \n",
    "The dataset includes data from the following states and districts:  \n",
    "\n",
    "- Delaware  \n",
    "- Illinois  \n",
    "- Indiana  \n",
    "- Kentucky  \n",
    "- Maryland  \n",
    "- Michigan  \n",
    "- New Jersey  \n",
    "- North Carolina  \n",
    "- Ohio  \n",
    "- Pennsylvania  \n",
    "- Tennessee  \n",
    "- Virginia  \n",
    "- West Virginia  \n",
    "- District of Columbia  \n",
    "\n",
    "## Data Description  \n",
    "- The dataset contains **hourly power consumption data** collected from PJM’s official website.  \n",
    "- All values are measured in **megawatts (MW)**.  \n",
    "- **Important:** The regions have changed over the years, so **data availability may vary** by date and location.  \n",
    "\n",
    "---"
   ]
  },
  {
   "cell_type": "markdown",
   "metadata": {},
   "source": [
    "- **About the author:** Sajjad Ali Shah\n",
    "- **LinkedIn:** [LinkedIn Profile](https://www.linkedin.com/in/sajjad-ali-shah47/)\n",
    "- **Dataset link:** [Hourly Energy Consumption](https://www.kaggle.com/datasets/robikscube/hourly-energy-consumption/data)\n",
    "\n",
    "---"
   ]
  },
  {
   "cell_type": "code",
   "execution_count": 2,
   "metadata": {},
   "outputs": [],
   "source": [
    "# import the libraries\n",
    "import pandas as pd\n",
    "import numpy as np\n",
    "import matplotlib.pyplot as plt\n",
    "import seaborn as sns"
   ]
  },
  {
   "cell_type": "code",
   "execution_count": null,
   "metadata": {},
   "outputs": [],
   "source": []
  }
 ],
 "metadata": {
  "kernelspec": {
   "display_name": "ml_env",
   "language": "python",
   "name": "python3"
  },
  "language_info": {
   "codemirror_mode": {
    "name": "ipython",
    "version": 3
   },
   "file_extension": ".py",
   "mimetype": "text/x-python",
   "name": "python",
   "nbconvert_exporter": "python",
   "pygments_lexer": "ipython3",
   "version": "3.10.16"
  }
 },
 "nbformat": 4,
 "nbformat_minor": 2
}
