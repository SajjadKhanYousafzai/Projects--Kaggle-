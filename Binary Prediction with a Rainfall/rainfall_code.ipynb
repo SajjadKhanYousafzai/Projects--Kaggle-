{
 "cells": [
  {
   "cell_type": "markdown",
   "metadata": {},
   "source": [
    "https://www.kaggle.com/code/sunilkumarmuduli/deployment-streamlit-cnn-for-good-resume"
   ]
  },
  {
   "cell_type": "markdown",
   "metadata": {},
   "source": []
  }
 ],
 "metadata": {
  "language_info": {
   "name": "python"
  }
 },
 "nbformat": 4,
 "nbformat_minor": 2
}
